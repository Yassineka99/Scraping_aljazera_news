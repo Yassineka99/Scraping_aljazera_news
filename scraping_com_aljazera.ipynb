{
  "nbformat": 4,
  "nbformat_minor": 0,
  "metadata": {
    "colab": {
      "provenance": [],
      "authorship_tag": "ABX9TyP15EvYnhJG+9pY5CBsTXY8",
      "include_colab_link": true
    },
    "kernelspec": {
      "name": "python3",
      "display_name": "Python 3"
    },
    "language_info": {
      "name": "python"
    }
  },
  "cells": [
    {
      "cell_type": "markdown",
      "metadata": {
        "id": "view-in-github",
        "colab_type": "text"
      },
      "source": [
        "<a href=\"https://colab.research.google.com/github/Yassineka99/Scraping_aljazera_news/blob/main/scraping_com_aljazera.ipynb\" target=\"_parent\"><img src=\"https://colab.research.google.com/assets/colab-badge.svg\" alt=\"Open In Colab\"/></a>"
      ]
    },
    {
      "cell_type": "code",
      "execution_count": null,
      "metadata": {
        "colab": {
          "base_uri": "https://localhost:8080/"
        },
        "id": "--1Iyq2RklsI",
        "outputId": "411b7bab-67f4-4886-d917-81dfdb177976"
      },
      "outputs": [
        {
          "output_type": "stream",
          "name": "stdout",
          "text": [
            "Collecting scrapy\n",
            "  Downloading Scrapy-2.11.1-py2.py3-none-any.whl (287 kB)\n",
            "\u001b[2K     \u001b[90m━━━━━━━━━━━━━━━━━━━━━━━━━━━━━━━━━━━━━━━━\u001b[0m \u001b[32m287.8/287.8 kB\u001b[0m \u001b[31m4.6 MB/s\u001b[0m eta \u001b[36m0:00:00\u001b[0m\n",
            "\u001b[?25hCollecting Twisted>=18.9.0 (from scrapy)\n",
            "  Downloading twisted-23.10.0-py3-none-any.whl (3.2 MB)\n",
            "\u001b[2K     \u001b[90m━━━━━━━━━━━━━━━━━━━━━━━━━━━━━━━━━━━━━━━━\u001b[0m \u001b[32m3.2/3.2 MB\u001b[0m \u001b[31m16.4 MB/s\u001b[0m eta \u001b[36m0:00:00\u001b[0m\n",
            "\u001b[?25hRequirement already satisfied: cryptography>=36.0.0 in /usr/local/lib/python3.10/dist-packages (from scrapy) (42.0.2)\n",
            "Collecting cssselect>=0.9.1 (from scrapy)\n",
            "  Downloading cssselect-1.2.0-py2.py3-none-any.whl (18 kB)\n",
            "Collecting itemloaders>=1.0.1 (from scrapy)\n",
            "  Downloading itemloaders-1.1.0-py3-none-any.whl (11 kB)\n",
            "Collecting parsel>=1.5.0 (from scrapy)\n",
            "  Downloading parsel-1.8.1-py2.py3-none-any.whl (17 kB)\n",
            "Requirement already satisfied: pyOpenSSL>=21.0.0 in /usr/local/lib/python3.10/dist-packages (from scrapy) (24.0.0)\n",
            "Collecting queuelib>=1.4.2 (from scrapy)\n",
            "  Downloading queuelib-1.6.2-py2.py3-none-any.whl (13 kB)\n",
            "Collecting service-identity>=18.1.0 (from scrapy)\n",
            "  Downloading service_identity-24.1.0-py3-none-any.whl (12 kB)\n",
            "Collecting w3lib>=1.17.0 (from scrapy)\n",
            "  Downloading w3lib-2.1.2-py3-none-any.whl (21 kB)\n",
            "Collecting zope.interface>=5.1.0 (from scrapy)\n",
            "  Downloading zope.interface-6.2-cp310-cp310-manylinux_2_5_x86_64.manylinux1_x86_64.manylinux_2_17_x86_64.manylinux2014_x86_64.whl (247 kB)\n",
            "\u001b[2K     \u001b[90m━━━━━━━━━━━━━━━━━━━━━━━━━━━━━━━━━━━━━━━━\u001b[0m \u001b[32m247.3/247.3 kB\u001b[0m \u001b[31m25.4 MB/s\u001b[0m eta \u001b[36m0:00:00\u001b[0m\n",
            "\u001b[?25hCollecting protego>=0.1.15 (from scrapy)\n",
            "  Downloading Protego-0.3.0-py2.py3-none-any.whl (8.5 kB)\n",
            "Collecting itemadapter>=0.1.0 (from scrapy)\n",
            "  Downloading itemadapter-0.8.0-py3-none-any.whl (11 kB)\n",
            "Requirement already satisfied: setuptools in /usr/local/lib/python3.10/dist-packages (from scrapy) (67.7.2)\n",
            "Requirement already satisfied: packaging in /usr/local/lib/python3.10/dist-packages (from scrapy) (23.2)\n",
            "Collecting tldextract (from scrapy)\n",
            "  Downloading tldextract-5.1.1-py3-none-any.whl (97 kB)\n",
            "\u001b[2K     \u001b[90m━━━━━━━━━━━━━━━━━━━━━━━━━━━━━━━━━━━━━━━━\u001b[0m \u001b[32m97.7/97.7 kB\u001b[0m \u001b[31m14.0 MB/s\u001b[0m eta \u001b[36m0:00:00\u001b[0m\n",
            "\u001b[?25hRequirement already satisfied: lxml>=4.4.1 in /usr/local/lib/python3.10/dist-packages (from scrapy) (4.9.4)\n",
            "Collecting PyDispatcher>=2.0.5 (from scrapy)\n",
            "  Downloading PyDispatcher-2.0.7-py3-none-any.whl (12 kB)\n",
            "Requirement already satisfied: cffi>=1.12 in /usr/local/lib/python3.10/dist-packages (from cryptography>=36.0.0->scrapy) (1.16.0)\n",
            "Collecting jmespath>=0.9.5 (from itemloaders>=1.0.1->scrapy)\n",
            "  Downloading jmespath-1.0.1-py3-none-any.whl (20 kB)\n",
            "Requirement already satisfied: attrs>=19.1.0 in /usr/local/lib/python3.10/dist-packages (from service-identity>=18.1.0->scrapy) (23.2.0)\n",
            "Requirement already satisfied: pyasn1 in /usr/local/lib/python3.10/dist-packages (from service-identity>=18.1.0->scrapy) (0.5.1)\n",
            "Requirement already satisfied: pyasn1-modules in /usr/local/lib/python3.10/dist-packages (from service-identity>=18.1.0->scrapy) (0.3.0)\n",
            "Collecting automat>=0.8.0 (from Twisted>=18.9.0->scrapy)\n",
            "  Downloading Automat-22.10.0-py2.py3-none-any.whl (26 kB)\n",
            "Collecting constantly>=15.1 (from Twisted>=18.9.0->scrapy)\n",
            "  Downloading constantly-23.10.4-py3-none-any.whl (13 kB)\n",
            "Collecting hyperlink>=17.1.1 (from Twisted>=18.9.0->scrapy)\n",
            "  Downloading hyperlink-21.0.0-py2.py3-none-any.whl (74 kB)\n",
            "\u001b[2K     \u001b[90m━━━━━━━━━━━━━━━━━━━━━━━━━━━━━━━━━━━━━━━━\u001b[0m \u001b[32m74.6/74.6 kB\u001b[0m \u001b[31m12.6 MB/s\u001b[0m eta \u001b[36m0:00:00\u001b[0m\n",
            "\u001b[?25hCollecting incremental>=22.10.0 (from Twisted>=18.9.0->scrapy)\n",
            "  Downloading incremental-22.10.0-py2.py3-none-any.whl (16 kB)\n",
            "Requirement already satisfied: typing-extensions>=4.2.0 in /usr/local/lib/python3.10/dist-packages (from Twisted>=18.9.0->scrapy) (4.9.0)\n",
            "Requirement already satisfied: idna in /usr/local/lib/python3.10/dist-packages (from tldextract->scrapy) (3.6)\n",
            "Requirement already satisfied: requests>=2.1.0 in /usr/local/lib/python3.10/dist-packages (from tldextract->scrapy) (2.31.0)\n",
            "Collecting requests-file>=1.4 (from tldextract->scrapy)\n",
            "  Downloading requests_file-2.0.0-py2.py3-none-any.whl (4.2 kB)\n",
            "Requirement already satisfied: filelock>=3.0.8 in /usr/local/lib/python3.10/dist-packages (from tldextract->scrapy) (3.13.1)\n",
            "Requirement already satisfied: six in /usr/local/lib/python3.10/dist-packages (from automat>=0.8.0->Twisted>=18.9.0->scrapy) (1.16.0)\n",
            "Requirement already satisfied: pycparser in /usr/local/lib/python3.10/dist-packages (from cffi>=1.12->cryptography>=36.0.0->scrapy) (2.21)\n",
            "Requirement already satisfied: charset-normalizer<4,>=2 in /usr/local/lib/python3.10/dist-packages (from requests>=2.1.0->tldextract->scrapy) (3.3.2)\n",
            "Requirement already satisfied: urllib3<3,>=1.21.1 in /usr/local/lib/python3.10/dist-packages (from requests>=2.1.0->tldextract->scrapy) (2.0.7)\n",
            "Requirement already satisfied: certifi>=2017.4.17 in /usr/local/lib/python3.10/dist-packages (from requests>=2.1.0->tldextract->scrapy) (2024.2.2)\n",
            "Installing collected packages: PyDispatcher, incremental, zope.interface, w3lib, queuelib, protego, jmespath, itemadapter, hyperlink, cssselect, constantly, automat, Twisted, requests-file, parsel, tldextract, service-identity, itemloaders, scrapy\n",
            "Successfully installed PyDispatcher-2.0.7 Twisted-23.10.0 automat-22.10.0 constantly-23.10.4 cssselect-1.2.0 hyperlink-21.0.0 incremental-22.10.0 itemadapter-0.8.0 itemloaders-1.1.0 jmespath-1.0.1 parsel-1.8.1 protego-0.3.0 queuelib-1.6.2 requests-file-2.0.0 scrapy-2.11.1 service-identity-24.1.0 tldextract-5.1.1 w3lib-2.1.2 zope.interface-6.2\n"
          ]
        }
      ],
      "source": [
        "!pip install scrapy"
      ]
    },
    {
      "cell_type": "code",
      "source": [
        "!scrapy startproject aljazeera"
      ],
      "metadata": {
        "colab": {
          "base_uri": "https://localhost:8080/"
        },
        "id": "6PVnSS61k6YE",
        "outputId": "0b613cc1-07bc-4c02-93d4-2fa94ec68547"
      },
      "execution_count": null,
      "outputs": [
        {
          "output_type": "stream",
          "name": "stdout",
          "text": [
            "New Scrapy project 'aljazeera', using template directory '/usr/local/lib/python3.10/dist-packages/scrapy/templates/project', created in:\n",
            "    /content/aljazeera\n",
            "\n",
            "You can start your first spider with:\n",
            "    cd aljazeera\n",
            "    scrapy genspider example example.com\n"
          ]
        }
      ]
    },
    {
      "cell_type": "code",
      "source": [
        "%cd aljazeera/aljazeera/spiders"
      ],
      "metadata": {
        "colab": {
          "base_uri": "https://localhost:8080/"
        },
        "id": "zOssgYillVfX",
        "outputId": "a7eb8286-0600-4633-9876-fce6ee556248"
      },
      "execution_count": null,
      "outputs": [
        {
          "output_type": "stream",
          "name": "stdout",
          "text": [
            "/content/aljazeera/aljazeera/spiders\n"
          ]
        }
      ]
    },
    {
      "cell_type": "code",
      "source": [
        "!scrapy genspider aljaziraa https://www.aljazeera.com/"
      ],
      "metadata": {
        "colab": {
          "base_uri": "https://localhost:8080/"
        },
        "id": "Sp0x8k8GlX9N",
        "outputId": "037e724b-b20f-4b97-b89b-29ef430da3ec"
      },
      "execution_count": null,
      "outputs": [
        {
          "output_type": "stream",
          "name": "stdout",
          "text": [
            "Created spider 'aljaziraa' using template 'basic' in module:\n",
            "  aljazeera.spiders.aljaziraa\n"
          ]
        }
      ]
    },
    {
      "cell_type": "code",
      "source": [
        "%%writefile aljazeera.py\n",
        "import scrapy\n",
        "class scrapaljazeera(scrapy.Spider):\n",
        "  name = \"aljazeera\"\n",
        "  start_urls=[\"https://www.aljazeera.com/\"]\n",
        "  def parse(self,response):\n",
        "    news= response.css('a.u-clickable-card__link')\n",
        "    cards=response.css('article.article-card--small')\n",
        "    for card in cards :\n",
        "      yield{'title':card.css('h3.article-card__title span::text').get(),'url':card.css('a').attrib['href']}\n",
        "    for new in news :\n",
        "      yield{'Title':new.css('span::text').get()}"
      ],
      "metadata": {
        "id": "NXO6g1P9lai3",
        "outputId": "25107c28-2b9f-409e-927d-8fc0794c49e3",
        "colab": {
          "base_uri": "https://localhost:8080/"
        }
      },
      "execution_count": null,
      "outputs": [
        {
          "output_type": "stream",
          "name": "stdout",
          "text": [
            "Writing aljazeera.py\n"
          ]
        }
      ]
    },
    {
      "cell_type": "code",
      "source": [
        "!scrapy crawl aljazeera -o data.json"
      ],
      "metadata": {
        "id": "HEqyXUAvld9c",
        "outputId": "1e45c97d-2946-4a54-99b6-d156fd38098b",
        "colab": {
          "base_uri": "https://localhost:8080/"
        }
      },
      "execution_count": null,
      "outputs": [
        {
          "output_type": "stream",
          "name": "stdout",
          "text": [
            "2024-02-18 09:39:42 [scrapy.utils.log] INFO: Scrapy 2.11.1 started (bot: aljazeera)\n",
            "2024-02-18 09:39:42 [scrapy.utils.log] INFO: Versions: lxml 4.9.4.0, libxml2 2.10.3, cssselect 1.2.0, parsel 1.8.1, w3lib 2.1.2, Twisted 23.10.0, Python 3.10.12 (main, Nov 20 2023, 15:14:05) [GCC 11.4.0], pyOpenSSL 24.0.0 (OpenSSL 3.2.1 30 Jan 2024), cryptography 42.0.2, Platform Linux-6.1.58+-x86_64-with-glibc2.35\n",
            "2024-02-18 09:39:42 [scrapy.addons] INFO: Enabled addons:\n",
            "[]\n",
            "2024-02-18 09:39:42 [asyncio] DEBUG: Using selector: EpollSelector\n",
            "2024-02-18 09:39:42 [scrapy.utils.log] DEBUG: Using reactor: twisted.internet.asyncioreactor.AsyncioSelectorReactor\n",
            "2024-02-18 09:39:42 [scrapy.utils.log] DEBUG: Using asyncio event loop: asyncio.unix_events._UnixSelectorEventLoop\n",
            "2024-02-18 09:39:42 [scrapy.extensions.telnet] INFO: Telnet Password: c450aa38950bbe6b\n",
            "2024-02-18 09:39:42 [scrapy.middleware] INFO: Enabled extensions:\n",
            "['scrapy.extensions.corestats.CoreStats',\n",
            " 'scrapy.extensions.telnet.TelnetConsole',\n",
            " 'scrapy.extensions.memusage.MemoryUsage',\n",
            " 'scrapy.extensions.feedexport.FeedExporter',\n",
            " 'scrapy.extensions.logstats.LogStats']\n",
            "2024-02-18 09:39:42 [scrapy.crawler] INFO: Overridden settings:\n",
            "{'BOT_NAME': 'aljazeera',\n",
            " 'FEED_EXPORT_ENCODING': 'utf-8',\n",
            " 'NEWSPIDER_MODULE': 'aljazeera.spiders',\n",
            " 'REQUEST_FINGERPRINTER_IMPLEMENTATION': '2.7',\n",
            " 'ROBOTSTXT_OBEY': True,\n",
            " 'SPIDER_MODULES': ['aljazeera.spiders'],\n",
            " 'TWISTED_REACTOR': 'twisted.internet.asyncioreactor.AsyncioSelectorReactor'}\n",
            "2024-02-18 09:39:42 [scrapy.middleware] INFO: Enabled downloader middlewares:\n",
            "['scrapy.downloadermiddlewares.robotstxt.RobotsTxtMiddleware',\n",
            " 'scrapy.downloadermiddlewares.httpauth.HttpAuthMiddleware',\n",
            " 'scrapy.downloadermiddlewares.downloadtimeout.DownloadTimeoutMiddleware',\n",
            " 'scrapy.downloadermiddlewares.defaultheaders.DefaultHeadersMiddleware',\n",
            " 'scrapy.downloadermiddlewares.useragent.UserAgentMiddleware',\n",
            " 'scrapy.downloadermiddlewares.retry.RetryMiddleware',\n",
            " 'scrapy.downloadermiddlewares.redirect.MetaRefreshMiddleware',\n",
            " 'scrapy.downloadermiddlewares.httpcompression.HttpCompressionMiddleware',\n",
            " 'scrapy.downloadermiddlewares.redirect.RedirectMiddleware',\n",
            " 'scrapy.downloadermiddlewares.cookies.CookiesMiddleware',\n",
            " 'scrapy.downloadermiddlewares.httpproxy.HttpProxyMiddleware',\n",
            " 'scrapy.downloadermiddlewares.stats.DownloaderStats']\n",
            "2024-02-18 09:39:42 [scrapy.middleware] INFO: Enabled spider middlewares:\n",
            "['scrapy.spidermiddlewares.httperror.HttpErrorMiddleware',\n",
            " 'scrapy.spidermiddlewares.offsite.OffsiteMiddleware',\n",
            " 'scrapy.spidermiddlewares.referer.RefererMiddleware',\n",
            " 'scrapy.spidermiddlewares.urllength.UrlLengthMiddleware',\n",
            " 'scrapy.spidermiddlewares.depth.DepthMiddleware']\n",
            "2024-02-18 09:39:42 [scrapy.middleware] INFO: Enabled item pipelines:\n",
            "[]\n",
            "2024-02-18 09:39:42 [scrapy.core.engine] INFO: Spider opened\n",
            "2024-02-18 09:39:42 [scrapy.extensions.logstats] INFO: Crawled 0 pages (at 0 pages/min), scraped 0 items (at 0 items/min)\n",
            "2024-02-18 09:39:42 [scrapy.extensions.telnet] INFO: Telnet console listening on 127.0.0.1:6023\n",
            "2024-02-18 09:39:42 [scrapy.core.engine] DEBUG: Crawled (200) <GET https://www.aljazeera.com/robots.txt> (referer: None)\n",
            "2024-02-18 09:39:42 [scrapy.core.engine] DEBUG: Crawled (200) <GET https://www.aljazeera.com/> (referer: None)\n",
            "2024-02-18 09:39:42 [scrapy.core.scraper] DEBUG: Scraped from <200 https://www.aljazeera.com/>\n",
            "{'title': 'Qatar PM: Hamas-Is\\xadrael talks ‘not very promis\\xading’, truce ef\\xadforts to go on', 'url': '/news/2024/2/18/qatar-pm-hamas-israel-talks-not-very-promising-truce-efforts-to-go-on'}\n",
            "2024-02-18 09:39:42 [scrapy.core.scraper] DEBUG: Scraped from <200 https://www.aljazeera.com/>\n",
            "{'title': 'Pak\\xadistan of\\xadfi\\xadcial ad\\xadmits in\\xadvolve\\xadment in rig\\xadging elec\\xadtion re\\xadsults', 'url': '/news/2024/2/17/pakistan-official-admits-involvement-in-rigging-election-results'}\n",
            "2024-02-18 09:39:42 [scrapy.core.scraper] DEBUG: Scraped from <200 https://www.aljazeera.com/>\n",
            "{'title': 'Boos and cheers as Trump launch\\xades $399 sneak\\xaders line day af\\xadter $355m fine', 'url': '/news/2024/2/18/boos-and-cheers-as-trump-launches-399-sneaker-line-day-after-355m-fine'}\n",
            "2024-02-18 09:39:42 [scrapy.core.scraper] DEBUG: Scraped from <200 https://www.aljazeera.com/>\n",
            "{'title': 'Thai\\xadland’s ex-PM Thaksin leaves hos\\xadpi\\xadtal af\\xadter six months in de\\xadten\\xadtion', 'url': '/news/2024/2/17/thailands-jailed-ex-pm-thaksin-leaves-police-hospital-witnesses-say'}\n",
            "2024-02-18 09:39:42 [scrapy.core.scraper] DEBUG: Scraped from <200 https://www.aljazeera.com/>\n",
            "{'title': 'Is\\xadrael’s war on Gaza: List of key events, day 135', 'url': '/news/2024/2/18/israels-war-on-gaza-list-of-key-events-day-135'}\n",
            "2024-02-18 09:39:42 [scrapy.core.scraper] DEBUG: Scraped from <200 https://www.aljazeera.com/>\n",
            "{'title': 'Biden says he told Ze\\xadlen\\xadskyy he’s ‘con\\xadfi\\xaddent’ US will re\\xadnew aid to Ukraine', 'url': '/news/2024/2/18/biden-tells-zelenskyy-hes-confident-us-will-renew-aid-to-ukraine'}\n",
            "2024-02-18 09:39:42 [scrapy.core.scraper] DEBUG: Scraped from <200 https://www.aljazeera.com/>\n",
            "{'title': 'US ‘strong\\xadly con\\xaddemns’ vi\\xado\\xadlence in DR Con\\xadgo af\\xadter al\\xadleged drone at\\xadtack', 'url': '/news/2024/2/18/us-strongly-condemns-violence-in-dr-congo-after-alleged-drone-attack'}\n",
            "2024-02-18 09:39:42 [scrapy.core.scraper] DEBUG: Scraped from <200 https://www.aljazeera.com/>\n",
            "{'title': 'Par\\xadal\\xadlel sea\\xadsons: How Lebanon hides from re\\xadal\\xadi\\xadty', 'url': '/features/longform/2024/2/18/parallel-seasons-how-lebanon-hides-from-reality'}\n",
            "2024-02-18 09:39:42 [scrapy.core.scraper] DEBUG: Scraped from <200 https://www.aljazeera.com/>\n",
            "{'title': '‘They give me com\\xadfort’: In Rafah, song\\xadbirds help Pales\\xadtini\\xadans cope with war', 'url': '/news/2024/2/17/how-the-songbirds-of-rafah-help-palestinians-cope-with-the-terror-of-war'}\n",
            "2024-02-18 09:39:42 [scrapy.core.scraper] DEBUG: Scraped from <200 https://www.aljazeera.com/>\n",
            "{'title': '‘They killed him’: Was Putin’s crit\\xadic Naval\\xadny mur\\xaddered?', 'url': '/news/2024/2/17/they-killed-him-was-putins-critic-navalny-murdered'}\n",
            "2024-02-18 09:39:42 [scrapy.core.scraper] DEBUG: Scraped from <200 https://www.aljazeera.com/>\n",
            "{'title': 'Which coun\\xadtries are still fund\\xading UN\\xadR\\xadWA amid Is\\xadrael’s war on Gaza?', 'url': '/news/2024/2/17/which-countries-are-still-funding-unrwa'}\n",
            "2024-02-18 09:39:42 [scrapy.core.scraper] DEBUG: Scraped from <200 https://www.aljazeera.com/>\n",
            "{'title': 'But\\xadter chick\\xaden bat\\xadtle: How the dish brought two In\\xaddi\\xadan restau\\xadrants to court', 'url': '/features/2024/2/17/butter-chicken-battle-how-the-dish-brought-two-indian-restaurants-to-court'}\n",
            "2024-02-18 09:39:42 [scrapy.core.scraper] DEBUG: Scraped from <200 https://www.aljazeera.com/>\n",
            "{'title': 'Alex\\xadey Naval\\xadny time\\xadline: From poi\\xadson\\xading to prison to death', 'url': '/news/2024/2/16/hold-alexei-navalny-timeline-from-poisoning-to-prison'}\n",
            "2024-02-18 09:39:42 [scrapy.core.scraper] DEBUG: Scraped from <200 https://www.aljazeera.com/>\n",
            "{'title': 'Alex\\xadey Naval\\xadny’s wife urges world to de\\xadfeat ‘hor\\xadrif\\xadic Russ\\xadian regime’', 'url': '/program/newsfeed/2024/2/16/alexey-navalnys-wife-urges-world-to-defeat-horrific-russian-regime'}\n",
            "2024-02-18 09:39:42 [scrapy.core.scraper] DEBUG: Scraped from <200 https://www.aljazeera.com/>\n",
            "{'title': 'Why is a planned ground at\\xadtack in Rafah caus\\xading alarm?', 'url': '/program/newsfeed/2024/2/16/why-is-a-planned-ground-attack-in-rafah-causing-alarm'}\n",
            "2024-02-18 09:39:42 [scrapy.core.scraper] DEBUG: Scraped from <200 https://www.aljazeera.com/>\n",
            "{'title': 'Pales\\xadtini\\xadans are eat\\xading weeds to stay alive in Gaza', 'url': '/program/newsfeed/2024/2/16/palestinians-are-eating-weeds-to-stay-alive-in'}\n",
            "2024-02-18 09:39:42 [scrapy.core.scraper] DEBUG: Scraped from <200 https://www.aljazeera.com/>\n",
            "{'title': 'How like\\xadly is a re\\xadgion\\xadal con\\xadflict in the Mid\\xaddle East?', 'url': '/program/inside-story/2024/2/16/how-likely-is-a-regional-conflict-in-the-middle-east'}\n",
            "2024-02-18 09:39:42 [scrapy.core.scraper] DEBUG: Scraped from <200 https://www.aljazeera.com/>\n",
            "{'title': '‘Systematic torture’: To be Palestinian in an Israeli prison', 'url': '/news/2024/2/18/systematic-torture-to-be-palestinian-in-an-israeli-prison'}\n",
            "2024-02-18 09:39:42 [scrapy.core.scraper] DEBUG: Scraped from <200 https://www.aljazeera.com/>\n",
            "{'Title': None}\n",
            "2024-02-18 09:39:42 [scrapy.core.scraper] DEBUG: Scraped from <200 https://www.aljazeera.com/>\n",
            "{'Title': 'Qatar PM: Hamas-Is\\xadrael talks ‘not very promis\\xading’, truce ef\\xadforts to go on'}\n",
            "2024-02-18 09:39:42 [scrapy.core.scraper] DEBUG: Scraped from <200 https://www.aljazeera.com/>\n",
            "{'Title': 'Qatar PM: Hamas-Is\\xadrael talks ‘not very promis\\xading’, truce ef\\xadforts to go on'}\n",
            "2024-02-18 09:39:42 [scrapy.core.scraper] DEBUG: Scraped from <200 https://www.aljazeera.com/>\n",
            "{'Title': 'Pak\\xadistan of\\xadfi\\xadcial ad\\xadmits in\\xadvolve\\xadment in rig\\xadging elec\\xadtion re\\xadsults'}\n",
            "2024-02-18 09:39:42 [scrapy.core.scraper] DEBUG: Scraped from <200 https://www.aljazeera.com/>\n",
            "{'Title': 'Boos and cheers as Trump launch\\xades $399 sneak\\xaders line day af\\xadter $355m fine'}\n",
            "2024-02-18 09:39:42 [scrapy.core.scraper] DEBUG: Scraped from <200 https://www.aljazeera.com/>\n",
            "{'Title': 'Thai\\xadland’s ex-PM Thaksin leaves hos\\xadpi\\xadtal af\\xadter six months in de\\xadten\\xadtion'}\n",
            "2024-02-18 09:39:42 [scrapy.core.scraper] DEBUG: Scraped from <200 https://www.aljazeera.com/>\n",
            "{'Title': 'Is\\xadrael’s war on Gaza: List of key events, day 135'}\n",
            "2024-02-18 09:39:42 [scrapy.core.scraper] DEBUG: Scraped from <200 https://www.aljazeera.com/>\n",
            "{'Title': 'Biden says he told Ze\\xadlen\\xadskyy he’s ‘con\\xadfi\\xaddent’ US will re\\xadnew aid to Ukraine'}\n",
            "2024-02-18 09:39:42 [scrapy.core.scraper] DEBUG: Scraped from <200 https://www.aljazeera.com/>\n",
            "{'Title': 'US ‘strong\\xadly con\\xaddemns’ vi\\xado\\xadlence in DR Con\\xadgo af\\xadter al\\xadleged drone at\\xadtack'}\n",
            "2024-02-18 09:39:42 [scrapy.core.scraper] DEBUG: Scraped from <200 https://www.aljazeera.com/>\n",
            "{'Title': 'Par\\xadal\\xadlel sea\\xadsons: How Lebanon hides from re\\xadal\\xadi\\xadty'}\n",
            "2024-02-18 09:39:42 [scrapy.core.scraper] DEBUG: Scraped from <200 https://www.aljazeera.com/>\n",
            "{'Title': '‘They give me com\\xadfort’: In Rafah, song\\xadbirds help Pales\\xadtini\\xadans cope with war'}\n",
            "2024-02-18 09:39:42 [scrapy.core.scraper] DEBUG: Scraped from <200 https://www.aljazeera.com/>\n",
            "{'Title': '‘They killed him’: Was Putin’s crit\\xadic Naval\\xadny mur\\xaddered?'}\n",
            "2024-02-18 09:39:42 [scrapy.core.scraper] DEBUG: Scraped from <200 https://www.aljazeera.com/>\n",
            "{'Title': 'Which coun\\xadtries are still fund\\xading UN\\xadR\\xadWA amid Is\\xadrael’s war on Gaza?'}\n",
            "2024-02-18 09:39:42 [scrapy.core.scraper] DEBUG: Scraped from <200 https://www.aljazeera.com/>\n",
            "{'Title': 'But\\xadter chick\\xaden bat\\xadtle: How the dish brought two In\\xaddi\\xadan restau\\xadrants to court'}\n",
            "2024-02-18 09:39:42 [scrapy.core.scraper] DEBUG: Scraped from <200 https://www.aljazeera.com/>\n",
            "{'Title': 'Alex\\xadey Naval\\xadny time\\xadline: From poi\\xadson\\xading to prison to death'}\n",
            "2024-02-18 09:39:42 [scrapy.core.scraper] DEBUG: Scraped from <200 https://www.aljazeera.com/>\n",
            "{'Title': 'Alex\\xadey Naval\\xadny’s wife urges world to de\\xadfeat ‘hor\\xadrif\\xadic Russ\\xadian regime’'}\n",
            "2024-02-18 09:39:42 [scrapy.core.scraper] DEBUG: Scraped from <200 https://www.aljazeera.com/>\n",
            "{'Title': 'Why is a planned ground at\\xadtack in Rafah caus\\xading alarm?'}\n",
            "2024-02-18 09:39:42 [scrapy.core.scraper] DEBUG: Scraped from <200 https://www.aljazeera.com/>\n",
            "{'Title': 'Pales\\xadtini\\xadans are eat\\xading weeds to stay alive in Gaza'}\n",
            "2024-02-18 09:39:42 [scrapy.core.scraper] DEBUG: Scraped from <200 https://www.aljazeera.com/>\n",
            "{'Title': 'How like\\xadly is a re\\xadgion\\xadal con\\xadflict in the Mid\\xaddle East?'}\n",
            "2024-02-18 09:39:42 [scrapy.core.scraper] DEBUG: Scraped from <200 https://www.aljazeera.com/>\n",
            "{'Title': '‘The tourists have gone’: Jerusalem restau\\xadra\\xadteur strug\\xadgles amid Gaza war'}\n",
            "2024-02-18 09:39:42 [scrapy.core.scraper] DEBUG: Scraped from <200 https://www.aljazeera.com/>\n",
            "{'Title': None}\n",
            "2024-02-18 09:39:42 [scrapy.core.scraper] DEBUG: Scraped from <200 https://www.aljazeera.com/>\n",
            "{'Title': 'The tri\\xadal of Kwoye\\xadlo: Fate of LRA rebel com\\xadman\\xadder di\\xadvides north\\xadern Ugan\\xadda'}\n",
            "2024-02-18 09:39:42 [scrapy.core.scraper] DEBUG: Scraped from <200 https://www.aljazeera.com/>\n",
            "{'Title': None}\n",
            "2024-02-18 09:39:42 [scrapy.core.scraper] DEBUG: Scraped from <200 https://www.aljazeera.com/>\n",
            "{'Title': 'At Rio’s Car\\xadni\\xadval pa\\xadrades, Yanoma\\xadmi ac\\xadtivists fight ‘geno\\xadcide’ with sam\\xadba'}\n",
            "2024-02-18 09:39:42 [scrapy.core.scraper] DEBUG: Scraped from <200 https://www.aljazeera.com/>\n",
            "{'Title': None}\n",
            "2024-02-18 09:39:42 [scrapy.core.scraper] DEBUG: Scraped from <200 https://www.aljazeera.com/>\n",
            "{'Title': 'Re\\xadmem\\xadber\\xading Cousin Aamer, a nurse who loved crab, and was killed by Is\\xadrael'}\n",
            "2024-02-18 09:39:42 [scrapy.core.scraper] DEBUG: Scraped from <200 https://www.aljazeera.com/>\n",
            "{'Title': None}\n",
            "2024-02-18 09:39:42 [scrapy.core.scraper] DEBUG: Scraped from <200 https://www.aljazeera.com/>\n",
            "{'Title': 'In Jerusalem’s Old City, Is\\xadraeli ‘siege’ forces Pales\\xadtin\\xadian shops to close'}\n",
            "2024-02-18 09:39:42 [scrapy.core.scraper] DEBUG: Scraped from <200 https://www.aljazeera.com/>\n",
            "{'Title': None}\n",
            "2024-02-18 09:39:42 [scrapy.core.scraper] DEBUG: Scraped from <200 https://www.aljazeera.com/>\n",
            "{'Title': '‘Systematic torture’: To be Palestinian in an Israeli prison'}\n",
            "2024-02-18 09:39:42 [scrapy.core.scraper] DEBUG: Scraped from <200 https://www.aljazeera.com/>\n",
            "{'Title': 'Gaza’s Nasser Hospital ‘completely out of service’ amid Israeli siege'}\n",
            "2024-02-18 09:39:42 [scrapy.core.scraper] DEBUG: Scraped from <200 https://www.aljazeera.com/>\n",
            "{'Title': 'Boos and cheers as Trump launches $399 sneakers line day after $355m fine'}\n",
            "2024-02-18 09:39:42 [scrapy.core.scraper] DEBUG: Scraped from <200 https://www.aljazeera.com/>\n",
            "{'Title': 'Pakistan official admits involvement in rigging election results'}\n",
            "2024-02-18 09:39:42 [scrapy.core.scraper] DEBUG: Scraped from <200 https://www.aljazeera.com/>\n",
            "{'Title': 'Why Navalny was hated in the Kremlin and in some Western circles'}\n",
            "2024-02-18 09:39:42 [scrapy.core.scraper] DEBUG: Scraped from <200 https://www.aljazeera.com/>\n",
            "{'Title': 'Which countries are still funding UNRWA amid Israel’s war on Gaza?'}\n",
            "2024-02-18 09:39:42 [scrapy.core.scraper] DEBUG: Scraped from <200 https://www.aljazeera.com/>\n",
            "{'Title': 'No victory without Rafah operation says Netanyahu, as civilians flee north'}\n",
            "2024-02-18 09:39:42 [scrapy.core.scraper] DEBUG: Scraped from <200 https://www.aljazeera.com/>\n",
            "{'Title': 'Qatar PM: Hamas-Israel talks ‘not very promising’, truce efforts to go on'}\n",
            "2024-02-18 09:39:42 [scrapy.core.scraper] DEBUG: Scraped from <200 https://www.aljazeera.com/>\n",
            "{'Title': 'Parallel seasons: How Lebanon hides from reality'}\n",
            "2024-02-18 09:39:42 [scrapy.core.scraper] DEBUG: Scraped from <200 https://www.aljazeera.com/>\n",
            "{'Title': 'Russia claims capture of Avdiivka after Ukraine withdraws from key city'}\n",
            "2024-02-18 09:39:42 [scrapy.core.scraper] DEBUG: Scraped from <200 https://www.aljazeera.com/>\n",
            "{'Title': 'Thousands take part in pro-Palestine protests across the world'}\n",
            "2024-02-18 09:39:42 [scrapy.core.engine] INFO: Closing spider (finished)\n",
            "2024-02-18 09:39:42 [scrapy.extensions.feedexport] INFO: Stored json feed (58 items) in: data.json\n",
            "2024-02-18 09:39:42 [scrapy.statscollectors] INFO: Dumping Scrapy stats:\n",
            "{'downloader/request_bytes': 446,\n",
            " 'downloader/request_count': 2,\n",
            " 'downloader/request_method_count/GET': 2,\n",
            " 'downloader/response_bytes': 84606,\n",
            " 'downloader/response_count': 2,\n",
            " 'downloader/response_status_count/200': 2,\n",
            " 'elapsed_time_seconds': 0.294482,\n",
            " 'feedexport/success_count/FileFeedStorage': 1,\n",
            " 'finish_reason': 'finished',\n",
            " 'finish_time': datetime.datetime(2024, 2, 18, 9, 39, 42, 590490, tzinfo=datetime.timezone.utc),\n",
            " 'httpcompression/response_bytes': 381054,\n",
            " 'httpcompression/response_count': 2,\n",
            " 'item_scraped_count': 58,\n",
            " 'log_count/DEBUG': 63,\n",
            " 'log_count/INFO': 11,\n",
            " 'memusage/max': 98705408,\n",
            " 'memusage/startup': 98705408,\n",
            " 'response_received_count': 2,\n",
            " 'robotstxt/request_count': 1,\n",
            " 'robotstxt/response_count': 1,\n",
            " 'robotstxt/response_status_count/200': 1,\n",
            " 'scheduler/dequeued': 1,\n",
            " 'scheduler/dequeued/memory': 1,\n",
            " 'scheduler/enqueued': 1,\n",
            " 'scheduler/enqueued/memory': 1,\n",
            " 'start_time': datetime.datetime(2024, 2, 18, 9, 39, 42, 296008, tzinfo=datetime.timezone.utc)}\n",
            "2024-02-18 09:39:42 [scrapy.core.engine] INFO: Spider closed (finished)\n"
          ]
        }
      ]
    }
  ]
}